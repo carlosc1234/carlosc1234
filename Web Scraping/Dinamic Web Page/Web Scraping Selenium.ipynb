{
 "cells": [
  {
   "cell_type": "code",
   "execution_count": 1,
   "metadata": {},
   "outputs": [
    {
     "name": "stdout",
     "output_type": "stream",
     "text": [
      "Requirement already satisfied: selenium in c:\\programdata\\anaconda3\\lib\\site-packages (3.141.0)\n",
      "Requirement already satisfied: urllib3 in c:\\programdata\\anaconda3\\lib\\site-packages (from selenium) (1.25.11)\n"
     ]
    }
   ],
   "source": [
    "import pandas as pd\n",
    "from datetime import date\n",
    "from datetime import datetime, timedelta\n",
    "from splinter import Browser\n",
    "from selenium import webdriver\n",
    "from time import sleep\n",
    "import random\n",
    "import math\n",
    "! pip install selenium\n",
    "# Definir fecha de referencia para buscar empleos posteriores a esta fecha Ej: -4 trae los resltados de los últimos 4 dias\n",
    "today = (date.today()+ timedelta(days=-4)).strftime('%Y %m %d')"
   ]
  },
  {
   "cell_type": "code",
   "execution_count": 2,
   "metadata": {
    "scrolled": true
   },
   "outputs": [],
   "source": [
    "Fecha=[]\n",
    "Cargo=[]\n",
    "Salario=[]\n",
    "Empresa=[]\n",
    "Link=[]\n",
    "Guia=[]\n",
    "\n",
    "#Definicion del driver de chrome\n",
    "driver = webdriver.Chrome(r'C:\\Users\\Samuel Cuartas\\Tesis/chromedriver.exe')# Nota hay que descargar el driver de chrome e instalarlo\n",
    "\n",
    "urls = [\n",
    "    'https://www.elempleo.com/co/ofertas-empleo/medellin?&trabajo=Analitica',\n",
    "    'https://www.elempleo.com/co/ofertas-empleo/Medellin?&trabajo=Business%20Intelligence',\n",
    "    'https://www.elempleo.com/co/ofertas-empleo/Medellin?&trabajo=Financiero',\n",
    "    'https://www.elempleo.com/co/ofertas-empleo/medellin?trabajo=Project%20Manager',\n",
    "    'https://www.elempleo.com/co/ofertas-empleo/medellin?trabajo=product%20owner',\n",
    "    'https://www.elempleo.com/co/ofertas-empleo/Medellin?&trabajo=Inteligencia%20de%20Negocios'    \n",
    "]\n",
    "\n",
    "for url in urls:\n",
    "    driver.get(url)\n",
    "    cant_result= int(driver.find_element_by_xpath('//strong[@class=\"js-total-results\"]').text)# Numero total de resultados de la busqueda\n",
    "    cant_rondas=int((math.ceil(cant_result / 100)) * 100/100) #Calculo del número de páginas de la busqueda\n",
    "    try:\n",
    "        driver.find_element_by_xpath('//select[@class=\"form-control js-results-by-page\"]/option[text()=100]').click()\n",
    "    except Exception:\n",
    "        pass\n",
    "    \n",
    "    sleep(random.uniform(8,12))\n",
    "    for i in range (cant_rondas):\n",
    "        try:\n",
    "            empleos = driver.find_elements_by_xpath('//div[@class=\"result-item\"]')# Listado de los empleos de la página\n",
    "            for empleo in empleos:\n",
    "                fecha= empleo.find_element_by_xpath('.//span[@class=\"info-publish-date pull-right js-offer-date\"]').text\n",
    "                Fecha.append(fecha) # Fecha\n",
    "                #print(fecha)\n",
    "                cargo= empleo.find_element_by_xpath('.//h2/a').text\n",
    "                Cargo.append(cargo) # Cargo\n",
    "                #print(cargo)\n",
    "                salario= empleo.find_element_by_xpath('.//span[@class=\"text-primary info-salary js-offer-salary\"]').text\n",
    "                Salario.append(salario) # Salario\n",
    "                #print (salario)\n",
    "                empresa = empleo.find_element_by_xpath('.//span[@class=\"info-company-name js-offer-company\"]').text\n",
    "                Empresa.append(empresa) #Empresa\n",
    "                #print (empresa)\n",
    "                link = empleo.find_element_by_xpath('.//h2/a').get_attribute('href')\n",
    "                Link.append(link) #Link de la url oferta\n",
    "                #print (link)\n",
    "                Guia.append(url) # Link de la url de busqueda\n",
    "            driver.execute_script(\"arguments[0].click();\", driver.find_element_by_xpath('//a[@class=\"js-btn-next\"]'))\n",
    "            sleep(random.uniform(8.0,12.0))\n",
    "        except:\n",
    "            break"
   ]
  },
  {
   "cell_type": "code",
   "execution_count": 3,
   "metadata": {
    "scrolled": false
   },
   "outputs": [],
   "source": [
    "# Creacion de Dataframe\n",
    "df = pd.DataFrame(list(zip(Fecha, Cargo, Salario, Empresa, Link, Guia)),\n",
    "               columns =['Fecha', 'Cargo', 'Salario','Empresa','Link','Guia'])\n",
    "df['Fecha']=df['Fecha'].str.join('').str.replace(r\"\\r\\n\", \"\")\n",
    "df['Fecha']=df['Fecha'].str.join('').str.replace(\"'\", \"\")\n",
    "df['Fecha']=df['Fecha'].str.join('').str.replace(\"Publicado\", \"\")\n",
    "df['Fecha']=df['Fecha'].str.strip()\n",
    "df['Fecha']=df.Fecha.replace({'Ene':'01','Feb':'02','Mar':'03','Abr':'04','May':'05','Jun':'06',\n",
    "                 'Jul':'07','Ago':'08','Sep':'09','Oct':'10','Nov':'11','Dic':'12'}, regex=True)\n",
    "df['Fecha']=pd.to_datetime(df['Fecha'], format='%d %m %Y').dt.strftime('%Y %m %d')\n",
    "df = df.sort_values(by=\"Fecha\", ignore_index=True,ascending=False)\n",
    "df=df.drop_duplicates(subset=['Fecha', 'Cargo', 'Salario'])\n",
    "df=df[(df.Salario != 'Menos de $1 millón' ) &(df.Salario != '$1 a $1,5 millones' ) & (df.Salario != '$1,5 a $2 millones') \n",
    "      & (df.Salario != '$2 a $2,5 millones')& (df.Salario != '$2,5 a $3 millones')]\n",
    "df = df.loc[(df['Fecha'] >= today)]"
   ]
  },
  {
   "cell_type": "code",
   "execution_count": 4,
   "metadata": {},
   "outputs": [],
   "source": [
    "#Exportación a excel\n",
    "df.to_excel(\"empleos.xlsx\")"
   ]
  },
  {
   "cell_type": "code",
   "execution_count": 5,
   "metadata": {},
   "outputs": [
    {
     "name": "stdout",
     "output_type": "stream",
     "text": [
      "Mail Sent\n"
     ]
    }
   ],
   "source": [
    "# Envío de resultados a correo\n",
    "import smtplib\n",
    "from email.mime.multipart import MIMEMultipart\n",
    "from email.mime.text import MIMEText\n",
    "from email.mime.base import MIMEBase\n",
    "from email import encoders\n",
    "mail_content = '''Hello,\n",
    "This is a test mail.\n",
    "In this mail we are sending some attachments.\n",
    "The mail is sent using Python SMTP library.\n",
    "Thank You\n",
    "'''\n",
    "#The mail addresses and password\n",
    "sender_address = ''\n",
    "sender_pass = ''\n",
    "receiver_address = ''\n",
    "#Setup the MIME\n",
    "message = MIMEMultipart()\n",
    "message['From'] = sender_address\n",
    "message['To'] = receiver_address\n",
    "message['Subject'] = 'A test mail sent by Python. It has an attachment.'\n",
    "#The subject line\n",
    "#The body and the attachments for the mail\n",
    "message.attach(MIMEText(mail_content, 'plain'))\n",
    "attach_file_name = 'empleos.xlsx'\n",
    "attach_file = open(attach_file_name, 'rb') # Open the file as binary mode\n",
    "payload = MIMEBase('application', 'vnd.ms-excel')\n",
    "payload.set_payload((attach_file).read())\n",
    "encoders.encode_base64(payload) #encode the attachment\n",
    "#add payload header with filename\n",
    "payload.add_header('Content-Decomposition', 'attachment', filename=attach_file_name)\n",
    "message.attach(payload)\n",
    "#Create SMTP session for sending the mail\n",
    "session = smtplib.SMTP('smtp.gmail.com', 587) #use gmail with port\n",
    "session.starttls() #enable security\n",
    "session.login(sender_address, sender_pass) #login with mail_id and password\n",
    "text = message.as_string()\n",
    "session.sendmail(sender_address, receiver_address, text)\n",
    "session.quit()\n",
    "print('Mail Sent')"
   ]
  },
  {
   "cell_type": "code",
   "execution_count": null,
   "metadata": {},
   "outputs": [],
   "source": []
  }
 ],
 "metadata": {
  "kernelspec": {
   "display_name": "Python 3",
   "language": "python",
   "name": "python3"
  },
  "language_info": {
   "codemirror_mode": {
    "name": "ipython",
    "version": 3
   },
   "file_extension": ".py",
   "mimetype": "text/x-python",
   "name": "python",
   "nbconvert_exporter": "python",
   "pygments_lexer": "ipython3",
   "version": "3.8.5"
  }
 },
 "nbformat": 4,
 "nbformat_minor": 4
}
