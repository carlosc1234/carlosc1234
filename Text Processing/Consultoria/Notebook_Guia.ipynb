{
  "nbformat": 4,
  "nbformat_minor": 0,
  "metadata": {
    "colab": {
      "name": "Notebook_Guia.ipynb",
      "provenance": []
    },
    "kernelspec": {
      "name": "python3",
      "display_name": "Python 3"
    }
  },
  "cells": [
    {
      "cell_type": "markdown",
      "metadata": {
        "id": "Ye6EMUGXKjIU"
      },
      "source": [
        "# NOTEBOOK GUÍA EXPONENCIAL\n"
      ]
    },
    {
      "cell_type": "markdown",
      "metadata": {
        "id": "xqKwh1ZKkA2I"
      },
      "source": [
        ""
      ]
    },
    {
      "cell_type": "code",
      "metadata": {
        "id": "5Y6BFt8SKoxZ",
        "colab": {
          "base_uri": "https://localhost:8080/",
          "height": 54
        },
        "outputId": "89c3c4e5-c6c4-4891-8da8-ddc789127d49"
      },
      "source": [
        "import pandas as pd # Librería para estructurar la información\n",
        "import numpy as np #Librería manipulación de array y matrices\n",
        "from tqdm import tqdm # Utilizado para evaluar el progreso de un proceso\n",
        "import re #Utilizada para preprocesamiento (eliminación substitución de palabras)\n",
        "import gensim #Librería para extraccion de características de texto Word2Vec\n",
        "from sklearn.model_selection import train_test_split #Dividir data en entrenamiento y testeo\n",
        "from sklearn.ensemble import RandomForestClassifier #Modelo de Clasificación\n",
        "from google.colab import files # Importar archivos desde drive\n",
        "import nltk\n",
        "nltk.download('punkt') #Complemento necesario para Tokenize\n",
        "import gensim.models.word2vec as w2v\n"
      ],
      "execution_count": null,
      "outputs": [
        {
          "output_type": "stream",
          "text": [
            "[nltk_data] Downloading package punkt to /root/nltk_data...\n",
            "[nltk_data]   Package punkt is already up-to-date!\n"
          ],
          "name": "stdout"
        }
      ]
    },
    {
      "cell_type": "markdown",
      "metadata": {
        "id": "ppIBAL5IP1KJ"
      },
      "source": [
        "# **1.LECTURA DE DATOS**"
      ]
    },
    {
      "cell_type": "code",
      "metadata": {
        "id": "UzWIV0QwZ8ua",
        "colab": {
          "base_uri": "https://localhost:8080/",
          "height": 35
        },
        "outputId": "d8045c58-4454-4498-f345-776b4215aa7e"
      },
      "source": [
        "from google.colab import drive\n",
        "drive.mount('/content/gdrive')"
      ],
      "execution_count": null,
      "outputs": [
        {
          "output_type": "stream",
          "text": [
            "Drive already mounted at /content/gdrive; to attempt to forcibly remount, call drive.mount(\"/content/gdrive\", force_remount=True).\n"
          ],
          "name": "stdout"
        }
      ]
    },
    {
      "cell_type": "code",
      "metadata": {
        "id": "6nRjh1XdaMG-"
      },
      "source": [
        "df = pd.read_csv('/content/gdrive/My Drive/Colab Notebooks/Monitoria Exponencial/complaints.csv')\n",
        "df = df[['Consumer complaint narrative','Product']] # Datos en Dataframe"
      ],
      "execution_count": null,
      "outputs": []
    },
    {
      "cell_type": "code",
      "metadata": {
        "id": "vR3_F62_f2B1",
        "colab": {
          "base_uri": "https://localhost:8080/",
          "height": 235
        },
        "outputId": "10afef95-8d2a-46a7-8eaf-1ec1d23edda8"
      },
      "source": [
        "df['Consumer complaint narrative']"
      ],
      "execution_count": null,
      "outputs": [
        {
          "output_type": "execute_result",
          "data": {
            "text/plain": [
              "0          transworld systems inc. \\nis trying to collect...\n",
              "1                                                        NaN\n",
              "2          I would like to request the suppression of the...\n",
              "3          Over the past 2 weeks, I have been receiving e...\n",
              "4                                                        NaN\n",
              "                                 ...                        \n",
              "1727578    I was on automatic payment for my car loan. In...\n",
              "1727579    I recieved a collections call from an unknown ...\n",
              "1727580    On XXXX XXXX, 2015, I contacted XXXX XXXX, who...\n",
              "1727581    I can not get from chase who services my mortg...\n",
              "1727582    I made a payment to CITI XXXX Credit Card on X...\n",
              "Name: Consumer complaint narrative, Length: 1727583, dtype: object"
            ]
          },
          "metadata": {
            "tags": []
          },
          "execution_count": 63
        }
      ]
    },
    {
      "cell_type": "code",
      "metadata": {
        "id": "t9zCbeoKiBEG"
      },
      "source": [
        "df=df[:10] # Esto es para seleccionar las 10 primeras filas"
      ],
      "execution_count": null,
      "outputs": []
    },
    {
      "cell_type": "markdown",
      "metadata": {
        "id": "EjMCCVVdiCOF"
      },
      "source": [
        "# **2.PREPROCESAMIENTO**"
      ]
    },
    {
      "cell_type": "code",
      "metadata": {
        "id": "Y8kSvH_Ceb3m"
      },
      "source": [
        "df['Consumer complaint narrative'] = df['Consumer complaint narrative'].map(lambda x: str(x).lower()) # Poner texto en minúsculas\n",
        "df['Consumer complaint narrative'] = df['Consumer complaint narrative'].map(lambda x: re.sub(r'/^[ñA-Za-z _]*[ñA-Za-z][ñA-Za-z _]*$/','',str(x))) #Quitar caracteres numéricos y alpha\n",
        "\n",
        "#re.sub(r'[^\\w]', ' ', s)"
      ],
      "execution_count": null,
      "outputs": []
    },
    {
      "cell_type": "code",
      "metadata": {
        "id": "pPIwCWLxgdqB",
        "colab": {
          "base_uri": "https://localhost:8080/",
          "height": 348
        },
        "outputId": "868ec187-ea7d-4846-bc5a-13a6c422e186"
      },
      "source": [
        "df"
      ],
      "execution_count": null,
      "outputs": [
        {
          "output_type": "execute_result",
          "data": {
            "text/html": [
              "<div>\n",
              "<style scoped>\n",
              "    .dataframe tbody tr th:only-of-type {\n",
              "        vertical-align: middle;\n",
              "    }\n",
              "\n",
              "    .dataframe tbody tr th {\n",
              "        vertical-align: top;\n",
              "    }\n",
              "\n",
              "    .dataframe thead th {\n",
              "        text-align: right;\n",
              "    }\n",
              "</style>\n",
              "<table border=\"1\" class=\"dataframe\">\n",
              "  <thead>\n",
              "    <tr style=\"text-align: right;\">\n",
              "      <th></th>\n",
              "      <th>Consumer complaint narrative</th>\n",
              "      <th>Product</th>\n",
              "    </tr>\n",
              "  </thead>\n",
              "  <tbody>\n",
              "    <tr>\n",
              "      <th>0</th>\n",
              "      <td>transworld systems inc. \\nis trying to collect...</td>\n",
              "      <td>Debt collection</td>\n",
              "    </tr>\n",
              "    <tr>\n",
              "      <th>1</th>\n",
              "      <td>nan</td>\n",
              "      <td>Credit reporting, credit repair services, or o...</td>\n",
              "    </tr>\n",
              "    <tr>\n",
              "      <th>2</th>\n",
              "      <td>i would like to request the suppression of the...</td>\n",
              "      <td>Credit reporting, credit repair services, or o...</td>\n",
              "    </tr>\n",
              "    <tr>\n",
              "      <th>3</th>\n",
              "      <td>over the past 2 weeks, i have been receiving e...</td>\n",
              "      <td>Debt collection</td>\n",
              "    </tr>\n",
              "    <tr>\n",
              "      <th>4</th>\n",
              "      <td>nan</td>\n",
              "      <td>Vehicle loan or lease</td>\n",
              "    </tr>\n",
              "    <tr>\n",
              "      <th>5</th>\n",
              "      <td>nan</td>\n",
              "      <td>Debt collection</td>\n",
              "    </tr>\n",
              "    <tr>\n",
              "      <th>6</th>\n",
              "      <td>nan</td>\n",
              "      <td>Credit reporting, credit repair services, or o...</td>\n",
              "    </tr>\n",
              "    <tr>\n",
              "      <th>7</th>\n",
              "      <td>nan</td>\n",
              "      <td>Credit card or prepaid card</td>\n",
              "    </tr>\n",
              "    <tr>\n",
              "      <th>8</th>\n",
              "      <td>i was sold access to an event digitally, of wh...</td>\n",
              "      <td>Money transfer, virtual currency, or money ser...</td>\n",
              "    </tr>\n",
              "    <tr>\n",
              "      <th>9</th>\n",
              "      <td>this complaint dates back to last xx/xx/xxxx d...</td>\n",
              "      <td>Mortgage</td>\n",
              "    </tr>\n",
              "  </tbody>\n",
              "</table>\n",
              "</div>"
            ],
            "text/plain": [
              "                        Consumer complaint narrative                                            Product\n",
              "0  transworld systems inc. \\nis trying to collect...                                    Debt collection\n",
              "1                                                nan  Credit reporting, credit repair services, or o...\n",
              "2  i would like to request the suppression of the...  Credit reporting, credit repair services, or o...\n",
              "3  over the past 2 weeks, i have been receiving e...                                    Debt collection\n",
              "4                                                nan                              Vehicle loan or lease\n",
              "5                                                nan                                    Debt collection\n",
              "6                                                nan  Credit reporting, credit repair services, or o...\n",
              "7                                                nan                        Credit card or prepaid card\n",
              "8  i was sold access to an event digitally, of wh...  Money transfer, virtual currency, or money ser...\n",
              "9  this complaint dates back to last xx/xx/xxxx d...                                           Mortgage"
            ]
          },
          "metadata": {
            "tags": []
          },
          "execution_count": 66
        }
      ]
    },
    {
      "cell_type": "markdown",
      "metadata": {
        "id": "5QVX63TwoWWi"
      },
      "source": [
        "# **3.TOKENIZACIÓN**"
      ]
    },
    {
      "cell_type": "code",
      "metadata": {
        "id": "4qOyGsctOq4X"
      },
      "source": [
        "# A continuación se lleva a cabo el proceso de Tokenización\n",
        "\n",
        "from nltk.corpus import stopwords\n",
        "def tokenize_text(text):\n",
        "    tokens = []\n",
        "    for sent in nltk.sent_tokenize(text):\n",
        "        for word in nltk.word_tokenize(sent):\n",
        "            if len(word) < 2:\n",
        "                continue\n",
        "            tokens.append(word.lower())\n",
        "    return tokens"
      ],
      "execution_count": null,
      "outputs": []
    },
    {
      "cell_type": "code",
      "metadata": {
        "id": "9paZGw3KifTD"
      },
      "source": [
        "df['Consumer complaint narrative'] = df['Consumer complaint narrative'].map(lambda x: tokenize_text(str(x))) #Quitar caracteres numéricos y alpha"
      ],
      "execution_count": null,
      "outputs": []
    },
    {
      "cell_type": "code",
      "metadata": {
        "id": "TbO18j7_DHPl",
        "colab": {
          "base_uri": "https://localhost:8080/",
          "height": 217
        },
        "outputId": "52184ae1-52de-4fa0-efd1-dd3e74560377"
      },
      "source": [
        "df['Consumer complaint narrative']"
      ],
      "execution_count": null,
      "outputs": [
        {
          "output_type": "execute_result",
          "data": {
            "text/plain": [
              "0    [transworld, systems, inc., is, trying, to, co...\n",
              "1                                                [nan]\n",
              "2    [would, like, to, request, the, suppression, o...\n",
              "3    [over, the, past, weeks, have, been, receiving...\n",
              "4                                                [nan]\n",
              "5                                                [nan]\n",
              "6                                                [nan]\n",
              "7                                                [nan]\n",
              "8    [was, sold, access, to, an, event, digitally, ...\n",
              "9    [this, complaint, dates, back, to, last, xx/xx...\n",
              "Name: Consumer complaint narrative, dtype: object"
            ]
          },
          "metadata": {
            "tags": []
          },
          "execution_count": 69
        }
      ]
    },
    {
      "cell_type": "markdown",
      "metadata": {
        "id": "NbLzGaNGFj9a"
      },
      "source": [
        "#4. WORD EMBEDDINGS-Word2Ve"
      ]
    },
    {
      "cell_type": "code",
      "metadata": {
        "id": "vPLEug9HBQu8"
      },
      "source": [
        "from gensim.models import Word2Vec\n",
        "modelo_prueba= Word2Vec(df['Consumer complaint narrative'], size=100, window=5, min_count=3, workers=4).wv"
      ],
      "execution_count": null,
      "outputs": []
    },
    {
      "cell_type": "code",
      "metadata": {
        "id": "ibfvfcDfCs9s",
        "colab": {
          "base_uri": "https://localhost:8080/",
          "height": 1000
        },
        "outputId": "cc2c3111-0cd9-496a-babd-3de91254b95e"
      },
      "source": [
        "modelo_prueba.vocab"
      ],
      "execution_count": null,
      "outputs": [
        {
          "output_type": "execute_result",
          "data": {
            "text/plain": [
              "{'account': <gensim.models.keyedvectors.Vocab at 0x7fca905986a0>,\n",
              " 'actual': <gensim.models.keyedvectors.Vocab at 0x7fca90598828>,\n",
              " 'amount': <gensim.models.keyedvectors.Vocab at 0x7fca9130ffd0>,\n",
              " 'an': <gensim.models.keyedvectors.Vocab at 0x7fca9130ff98>,\n",
              " 'analysis': <gensim.models.keyedvectors.Vocab at 0x7fca90598eb8>,\n",
              " 'and': <gensim.models.keyedvectors.Vocab at 0x7fca9373cb38>,\n",
              " 'are': <gensim.models.keyedvectors.Vocab at 0x7fca9130f358>,\n",
              " 'as': <gensim.models.keyedvectors.Vocab at 0x7fca9130f278>,\n",
              " 'at': <gensim.models.keyedvectors.Vocab at 0x7fca9130f0f0>,\n",
              " 'balance': <gensim.models.keyedvectors.Vocab at 0x7fca90598e48>,\n",
              " 'be': <gensim.models.keyedvectors.Vocab at 0x7fca9130f208>,\n",
              " 'by': <gensim.models.keyedvectors.Vocab at 0x7fca9130fe48>,\n",
              " 'cooper': <gensim.models.keyedvectors.Vocab at 0x7fca90598a58>,\n",
              " 'correct': <gensim.models.keyedvectors.Vocab at 0x7fca905985f8>,\n",
              " 'credit': <gensim.models.keyedvectors.Vocab at 0x7fca9130f748>,\n",
              " 'difference': <gensim.models.keyedvectors.Vocab at 0x7fca90598ef0>,\n",
              " 'documents': <gensim.models.keyedvectors.Vocab at 0x7fca905989b0>,\n",
              " 'done': <gensim.models.keyedvectors.Vocab at 0x7fca9130fda0>,\n",
              " 'escrow': <gensim.models.keyedvectors.Vocab at 0x7fca90598ac8>,\n",
              " 'for': <gensim.models.keyedvectors.Vocab at 0x7fca9130ff28>,\n",
              " 'from': <gensim.models.keyedvectors.Vocab at 0x7fca9372d4a8>,\n",
              " 'had': <gensim.models.keyedvectors.Vocab at 0x7fca90598940>,\n",
              " 'have': <gensim.models.keyedvectors.Vocab at 0x7fca9130f2b0>,\n",
              " 'hazard': <gensim.models.keyedvectors.Vocab at 0x7fca90598ba8>,\n",
              " 'in': <gensim.models.keyedvectors.Vocab at 0x7fca9130f160>,\n",
              " 'indicated': <gensim.models.keyedvectors.Vocab at 0x7fca90598630>,\n",
              " 'information': <gensim.models.keyedvectors.Vocab at 0x7fca9130f2e8>,\n",
              " 'insurance': <gensim.models.keyedvectors.Vocab at 0x7fca90598d68>,\n",
              " 'is': <gensim.models.keyedvectors.Vocab at 0x7fca930caa58>,\n",
              " 'it': <gensim.models.keyedvectors.Vocab at 0x7fca9130f240>,\n",
              " 'last': <gensim.models.keyedvectors.Vocab at 0x7fca9130fe10>,\n",
              " 'loan': <gensim.models.keyedvectors.Vocab at 0x7fca9130fd30>,\n",
              " 'modification': <gensim.models.keyedvectors.Vocab at 0x7fca9130fd68>,\n",
              " 'mortgage': <gensim.models.keyedvectors.Vocab at 0x7fca90598f60>,\n",
              " 'mr': <gensim.models.keyedvectors.Vocab at 0x7fca90598390>,\n",
              " 'my': <gensim.models.keyedvectors.Vocab at 0x7fca9130f780>,\n",
              " 'nan': <gensim.models.keyedvectors.Vocab at 0x7fca9373cc50>,\n",
              " 'not': <gensim.models.keyedvectors.Vocab at 0x7fca930caa20>,\n",
              " 'of': <gensim.models.keyedvectors.Vocab at 0x7fca9372d9e8>,\n",
              " 'on': <gensim.models.keyedvectors.Vocab at 0x7fca9130f1d0>,\n",
              " 'one': <gensim.models.keyedvectors.Vocab at 0x7fca90598cf8>,\n",
              " 'only': <gensim.models.keyedvectors.Vocab at 0x7fca9130fef0>,\n",
              " 'over': <gensim.models.keyedvectors.Vocab at 0x7fca9130f198>,\n",
              " 'paypal': <gensim.models.keyedvectors.Vocab at 0x7fca9130ff60>,\n",
              " 'phone': <gensim.models.keyedvectors.Vocab at 0x7fca90598b38>,\n",
              " 'shortage': <gensim.models.keyedvectors.Vocab at 0x7fca90598400>,\n",
              " 'so': <gensim.models.keyedvectors.Vocab at 0x7fca90598048>,\n",
              " 'that': <gensim.models.keyedvectors.Vocab at 0x7fca930ca2b0>,\n",
              " 'the': <gensim.models.keyedvectors.Vocab at 0x7fca9372de48>,\n",
              " 'their': <gensim.models.keyedvectors.Vocab at 0x7fca90598278>,\n",
              " 'they': <gensim.models.keyedvectors.Vocab at 0x7fca905981d0>,\n",
              " 'this': <gensim.models.keyedvectors.Vocab at 0x7fca9130f320>,\n",
              " 'to': <gensim.models.keyedvectors.Vocab at 0x7fca930caeb8>,\n",
              " 'told': <gensim.models.keyedvectors.Vocab at 0x7fca9130f080>,\n",
              " 'two': <gensim.models.keyedvectors.Vocab at 0x7fca9130fdd8>,\n",
              " 'want': <gensim.models.keyedvectors.Vocab at 0x7fca9130f0b8>,\n",
              " 'was': <gensim.models.keyedvectors.Vocab at 0x7fca9130f048>,\n",
              " 'when': <gensim.models.keyedvectors.Vocab at 0x7fca90598c50>,\n",
              " 'which': <gensim.models.keyedvectors.Vocab at 0x7fca9130f390>,\n",
              " 'with': <gensim.models.keyedvectors.Vocab at 0x7fca9130feb8>,\n",
              " 'would': <gensim.models.keyedvectors.Vocab at 0x7fca9373c588>,\n",
              " 'xx/xx/xxxx': <gensim.models.keyedvectors.Vocab at 0x7fca9130fcf8>,\n",
              " 'xxxx': <gensim.models.keyedvectors.Vocab at 0x7fca9130f128>,\n",
              " 'year': <gensim.models.keyedvectors.Vocab at 0x7fca90598a90>}"
            ]
          },
          "metadata": {
            "tags": []
          },
          "execution_count": 73
        }
      ]
    },
    {
      "cell_type": "code",
      "metadata": {
        "id": "ySSQeb0DEFzb",
        "colab": {
          "base_uri": "https://localhost:8080/",
          "height": 399
        },
        "outputId": "716bea60-8844-4ab1-94b8-d0f25481ef14"
      },
      "source": [
        "modelo_prueba[\"phone\"]"
      ],
      "execution_count": null,
      "outputs": [
        {
          "output_type": "execute_result",
          "data": {
            "text/plain": [
              "array([-0.00511641,  0.00243095,  0.00151465, -0.00129431,  0.0032335 ,\n",
              "       -0.00348065,  0.00509352, -0.00295665, -0.00018019,  0.00517285,\n",
              "       -0.00031094, -0.00440564, -0.00471425,  0.00293176, -0.00017674,\n",
              "        0.00128519,  0.00030311,  0.00453284, -0.00243476,  0.00291448,\n",
              "        0.00216784, -0.00016371,  0.00343065, -0.00028338, -0.00309713,\n",
              "       -0.00150332, -0.00078946,  0.00430862, -0.00048648, -0.002056  ,\n",
              "       -0.00016738, -0.00190523,  0.00017988, -0.00242709, -0.00419664,\n",
              "        0.00222267, -0.00201584, -0.00014855,  0.00166449, -0.00107281,\n",
              "        0.00470768,  0.00469129,  0.00137404,  0.00123858,  0.00280231,\n",
              "        0.00028173, -0.0006414 ,  0.00090739, -0.00250484,  0.00424373,\n",
              "       -0.00035868,  0.00490559,  0.00308028, -0.00468329, -0.00045184,\n",
              "        0.00422505,  0.00460443,  0.00088921,  0.0025424 ,  0.00156261,\n",
              "       -0.00220892,  0.00211557,  0.00249605,  0.00444781,  0.00104333,\n",
              "       -0.00202434,  0.001619  ,  0.00012122, -0.00263355,  0.0047359 ,\n",
              "       -0.000731  ,  0.00201721, -0.00225367,  0.00291696, -0.00434216,\n",
              "        0.00093723, -0.00395882, -0.00164263, -0.00051264,  0.0021577 ,\n",
              "       -0.0019331 , -0.00383244,  0.00049619, -0.00234794, -0.00485475,\n",
              "       -0.00415557, -0.00358545, -0.00472197,  0.00394945, -0.00073658,\n",
              "        0.001215  ,  0.00104166,  0.00023028,  0.00308945, -0.00354583,\n",
              "       -0.00405497,  0.00357848,  0.00418251,  0.00395064, -0.00120504],\n",
              "      dtype=float32)"
            ]
          },
          "metadata": {
            "tags": []
          },
          "execution_count": 74
        }
      ]
    },
    {
      "cell_type": "code",
      "metadata": {
        "id": "dwZ3OfqtFdxM"
      },
      "source": [
        ""
      ],
      "execution_count": null,
      "outputs": []
    }
  ]
}